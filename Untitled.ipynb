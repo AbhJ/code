{
 "cells": [
  {
   "cell_type": "code",
   "execution_count": 3,
   "metadata": {},
   "outputs": [
    {
     "name": "stdout",
     "output_type": "stream",
     "text": [
      "2             3 -1 10000 8 20 -1 16 3 -1 10100 -1 5A -1 1011010\n"
     ]
    },
    {
     "ename": "ValueError",
     "evalue": "invalid literal for int() with base 10: '2             3 -1 10000 8 20 -1 16 3 -1 10100 -1 5A -1 1011010'",
     "output_type": "error",
     "traceback": [
      "\u001b[0;31m---------------------------------------------------------------------------\u001b[0m",
      "\u001b[0;31mValueError\u001b[0m                                Traceback (most recent call last)",
      "\u001b[0;32m<ipython-input-3-d12c5b321c40>\u001b[0m in \u001b[0;36m<module>\u001b[0;34m\u001b[0m\n\u001b[1;32m     16\u001b[0m         \u001b[0;32mreturn\u001b[0m \u001b[0mans\u001b[0m\u001b[0;34m\u001b[0m\u001b[0;34m\u001b[0m\u001b[0m\n\u001b[1;32m     17\u001b[0m \u001b[0;31m#print(cvrt(26,'ZA'))\u001b[0m\u001b[0;34m\u001b[0m\u001b[0;34m\u001b[0m\u001b[0;34m\u001b[0m\u001b[0m\n\u001b[0;32m---> 18\u001b[0;31m \u001b[0mT\u001b[0m \u001b[0;34m=\u001b[0m \u001b[0mint\u001b[0m\u001b[0;34m(\u001b[0m\u001b[0minput\u001b[0m\u001b[0;34m(\u001b[0m\u001b[0;34m)\u001b[0m\u001b[0;34m)\u001b[0m\u001b[0;34m\u001b[0m\u001b[0;34m\u001b[0m\u001b[0m\n\u001b[0m\u001b[1;32m     19\u001b[0m \u001b[0;34m\u001b[0m\u001b[0m\n\u001b[1;32m     20\u001b[0m \u001b[0;32mfor\u001b[0m \u001b[0mt\u001b[0m \u001b[0;32min\u001b[0m \u001b[0mrange\u001b[0m\u001b[0;34m(\u001b[0m\u001b[0mT\u001b[0m\u001b[0;34m)\u001b[0m\u001b[0;34m:\u001b[0m\u001b[0;34m\u001b[0m\u001b[0;34m\u001b[0m\u001b[0m\n",
      "\u001b[0;31mValueError\u001b[0m: invalid literal for int() with base 10: '2             3 -1 10000 8 20 -1 16 3 -1 10100 -1 5A -1 1011010'"
     ]
    }
   ],
   "source": [
    "import sys\n",
    "\n",
    "def dig(c):\n",
    "\tfor i in '0123456789':\n",
    "\t\tif c == i:\n",
    "\t\t\treturn int(c)\n",
    "\treturn ord(c) - 55\n",
    "\n",
    "def cvrt(B,s):\n",
    "\tans = 0\n",
    "\tn = len(s)\n",
    "\tfor i in range(n):\n",
    "\n",
    "\t\t#print(dig(s[n-1-i]))\n",
    "\t\tans += dig(s[n-i-1])(B*i)\n",
    "\treturn ans\n",
    "#print(cvrt(26,'ZA'))\n",
    "T = int(input())\n",
    "\n",
    "for t in range(T):\n",
    "\tN = int(input())\n",
    "\tnum = []\n",
    "\tfor i in range(N):\n",
    "\t\tz = input()\n",
    "\t\tB,s = int(z.split()[0]),z.split()[1]\n",
    "\t\tnum.append((B,s))\n",
    "\tmega = {}\n",
    "\tfor i in num:\n",
    "\t\t#print(i[1])\n",
    "\t\tif(i[0]==-1):\n",
    "\t\t\tmx = 1\n",
    "\t\t\tfor j in i[1]:\n",
    "\t\t\t\tif(mx < dig(j)):\n",
    "\t\t\t\t\tmx = dig(j)\n",
    "\t\t\t#print(mx)\n",
    "\t\t\trep = []\n",
    "\t\t\tfor j in range(mx+1,37):\n",
    "\t\t\t\tp = cvrt(j,i[1])\n",
    "\t\t\t\tif(p>10**12):\n",
    "\t\t\t\t\tcontinue\n",
    "\t\t\t\t#print(p)\n",
    "\t\t\t\tif p in rep:\n",
    "\t\t\t\t\tcontinue\n",
    "\t\t\t\telse:\n",
    "\t\t\t\t\trep.append(p)\n",
    "\t\t\t\t#print(p)\n",
    "\t\t\t\tif(mega.get(p) == None):\n",
    "\t\t\t\t\tmega[p] = 1\n",
    "\t\t\t\telse:\n",
    "\t\t\t\t\tmega[p] += 1\n",
    "\t\telse:\n",
    "\t\t\tp = cvrt(i[0],i[1])\n",
    "\t\t\tif(p>10**12):\n",
    "\t\t\t\tcontinue\n",
    "\t\t\tif(mega.get(p) == None):\n",
    "\t\t\t\tmega[p] = 1\n",
    "\t\t\telse:\n",
    "\t\t\t\tmega[p] += 1\n",
    "\tres = []\n",
    "\tfor i in mega.items():\n",
    "\t\t#print(i)\n",
    "\t\tif(i[1]==N):\n",
    "\t\t\tres.append(i[0])\n",
    "\tif len(res)!=0:\n",
    "\t\tprint(min(res))\n",
    "\telse:\n",
    "\t\tprint(-1)\n",
    "\tsys.stdout.flush()"
   ]
  },
  {
   "cell_type": "code",
   "execution_count": null,
   "metadata": {},
   "outputs": [],
   "source": []
  }
 ],
 "metadata": {
  "kernelspec": {
   "display_name": "Python 3",
   "language": "python",
   "name": "python3"
  },
  "language_info": {
   "codemirror_mode": {
    "name": "ipython",
    "version": 3
   },
   "file_extension": ".py",
   "mimetype": "text/x-python",
   "name": "python",
   "nbconvert_exporter": "python",
   "pygments_lexer": "ipython3",
   "version": "3.7.3"
  }
 },
 "nbformat": 4,
 "nbformat_minor": 2
}
